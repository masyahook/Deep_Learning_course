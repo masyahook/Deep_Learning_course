{
 "cells": [
  {
   "cell_type": "code",
   "execution_count": 10,
   "metadata": {},
   "outputs": [],
   "source": [
    "import numpy\n",
    "import torch"
   ]
  },
  {
   "cell_type": "markdown",
   "metadata": {},
   "source": [
    "Task 1"
   ]
  },
  {
   "cell_type": "code",
   "execution_count": 4,
   "metadata": {},
   "outputs": [
    {
     "data": {
      "text/plain": [
       "tensor([[1., 2., 1., 1., 1., 1., 2., 1., 1., 1., 1., 2., 1.],\n",
       "        [2., 2., 2., 2., 2., 2., 2., 2., 2., 2., 2., 2., 2.],\n",
       "        [1., 2., 1., 1., 1., 1., 2., 1., 1., 1., 1., 2., 1.],\n",
       "        [1., 2., 1., 3., 3., 1., 2., 1., 3., 3., 1., 2., 1.],\n",
       "        [1., 2., 1., 3., 3., 1., 2., 1., 3., 3., 1., 2., 1.],\n",
       "        [1., 2., 1., 1., 1., 1., 2., 1., 1., 1., 1., 2., 1.],\n",
       "        [2., 2., 2., 2., 2., 2., 2., 2., 2., 2., 2., 2., 2.],\n",
       "        [1., 2., 1., 1., 1., 1., 2., 1., 1., 1., 1., 2., 1.],\n",
       "        [1., 2., 1., 3., 3., 1., 2., 1., 3., 3., 1., 2., 1.],\n",
       "        [1., 2., 1., 3., 3., 1., 2., 1., 3., 3., 1., 2., 1.],\n",
       "        [1., 2., 1., 1., 1., 1., 2., 1., 1., 1., 1., 2., 1.],\n",
       "        [2., 2., 2., 2., 2., 2., 2., 2., 2., 2., 2., 2., 2.],\n",
       "        [1., 2., 1., 1., 1., 1., 2., 1., 1., 1., 1., 2., 1.]])"
      ]
     },
     "execution_count": 4,
     "metadata": {},
     "output_type": "execute_result"
    }
   ],
   "source": [
    "matrix = torch.full(size=(13, 13), fill_value=1)\n",
    "matrix[1, :] = 2\n",
    "matrix[:, 1] = 2\n",
    "matrix[11, :] = 2\n",
    "matrix[:, 11] = 2\n",
    "matrix[6, :] = 2\n",
    "matrix[:, 6] = 2\n",
    "matrix[3:5, 3:5] = 3\n",
    "matrix[3:5, 8:10] = 3\n",
    "matrix[8:10, 3:5] = 3\n",
    "matrix[8:10, 8:10] = 3\n",
    "\n",
    "matrix"
   ]
  },
  {
   "cell_type": "markdown",
   "metadata": {},
   "source": [
    "Task 2"
   ]
  },
  {
   "cell_type": "code",
   "execution_count": 5,
   "metadata": {},
   "outputs": [
    {
     "data": {
      "text/plain": [
       "torch.return_types.eig(\n",
       "eigenvalues=tensor([[ 1.0000,  0.0000],\n",
       "        [ 2.0000,  0.0000],\n",
       "        [20.0000,  0.0000],\n",
       "        [19.0000,  0.0000],\n",
       "        [ 3.0000,  0.0000],\n",
       "        [18.0000,  0.0000],\n",
       "        [16.9999,  0.0000],\n",
       "        [16.0000,  0.0000],\n",
       "        [ 4.0000,  0.0000],\n",
       "        [15.0000,  0.0000],\n",
       "        [14.0001,  0.0000],\n",
       "        [ 5.0000,  0.0000],\n",
       "        [ 6.0000,  0.0000],\n",
       "        [13.0000,  0.0000],\n",
       "        [ 7.0001,  0.0000],\n",
       "        [ 8.0000,  0.0000],\n",
       "        [ 9.0000,  0.0000],\n",
       "        [12.0000,  0.0000],\n",
       "        [11.0000,  0.0000],\n",
       "        [10.0000,  0.0000]]),\n",
       "eigenvectors=tensor([]))"
      ]
     },
     "execution_count": 5,
     "metadata": {},
     "output_type": "execute_result"
    }
   ],
   "source": [
    "M = torch.empty(20, 20).normal_()\n",
    "diag = torch.diag(torch.arange(start=1, end=21))\n",
    "matrix = torch.mm(torch.mm(M.inverse(), diag.float()), M)\n",
    "matrix.eig()"
   ]
  },
  {
   "cell_type": "markdown",
   "metadata": {},
   "source": [
    "Task 3"
   ]
  },
  {
   "cell_type": "code",
   "execution_count": 6,
   "metadata": {},
   "outputs": [
    {
     "data": {
      "text/plain": [
       "266212414872.48993"
      ]
     },
     "execution_count": 6,
     "metadata": {},
     "output_type": "execute_result"
    }
   ],
   "source": [
    "import time\n",
    "\n",
    "x, y = torch.empty(5000, 5000).normal_(), torch.empty(5000, 5000).normal_()\n",
    "\n",
    "t_start = time.perf_counter() \n",
    "product = torch.mm(x, y)\n",
    "t_end = time.perf_counter()\n",
    "time = t_end - t_start\n",
    "num_of_operations = 5000*(5000+4999)*5000\n",
    "\n",
    "flops = num_of_operations/time\n",
    "flops"
   ]
  },
  {
   "cell_type": "markdown",
   "metadata": {},
   "source": [
    "Task 4"
   ]
  },
  {
   "cell_type": "code",
   "execution_count": 36,
   "metadata": {},
   "outputs": [
    {
     "name": "stdout",
     "output_type": "stream",
     "text": [
      "The slow function needs: 0.01809331699996619 s, the fast function needs: 0.00048404000017399085 s\n"
     ]
    }
   ],
   "source": [
    "import time\n",
    "\n",
    "def mul_row(tensor):\n",
    "    for i in range(tensor.size()[0]):\n",
    "        tensor[i] = tensor[i]*(i+1)\n",
    "    return tensor\n",
    "\n",
    "\n",
    "def mul_row_fast(tensor):\n",
    "    tensor_range = torch.arange(start=1, end=tensor.size()[0]+1).view(tensor.size()[0], 1)\n",
    "    return torch.mul(tensor_range, tensor)\n",
    "\n",
    "m = torch.full((1000, 400), 2.0)\n",
    "\n",
    "t_1 = time.perf_counter()\n",
    "res = mul_row(m)\n",
    "t_2 = time.perf_counter()\n",
    "time_1 = t_2 - t_1\n",
    "\n",
    "t_1 = time.perf_counter()\n",
    "res_fast = mul_row_fast(m)\n",
    "t_2 = time.perf_counter()\n",
    "time_2 = t_2 - t_1\n",
    "\n",
    "print('The slow function needs: {} s, the fast function needs: {} s'.format(time_1, time_2))"
   ]
  }
 ],
 "metadata": {
  "kernelspec": {
   "display_name": "Python 3",
   "language": "python",
   "name": "python3"
  },
  "language_info": {
   "codemirror_mode": {
    "name": "ipython",
    "version": 3
   },
   "file_extension": ".py",
   "mimetype": "text/x-python",
   "name": "python",
   "nbconvert_exporter": "python",
   "pygments_lexer": "ipython3",
   "version": "3.7.6"
  }
 },
 "nbformat": 4,
 "nbformat_minor": 4
}
